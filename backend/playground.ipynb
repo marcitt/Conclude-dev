{
 "cells": [
  {
   "cell_type": "code",
   "execution_count": 2,
   "id": "b96eefbe",
   "metadata": {},
   "outputs": [],
   "source": [
    "from pdf2image import convert_from_path\n",
    "from langchain_community.llms import Ollama \n",
    "import pytesseract\n",
    "import re\n",
    "\n",
    "from PIL import Image\n",
    "\n",
    "import warnings\n",
    "\n",
    "warnings.filterwarnings('ignore', category=DeprecationWarning)\n",
    "\n"
   ]
  },
  {
   "cell_type": "code",
   "execution_count": 3,
   "id": "ce615063",
   "metadata": {},
   "outputs": [
    {
     "name": "stdout",
     "output_type": "stream",
     "text": [
      "**LLM is functioning properly!**\n",
      "\n",
      "**Pytesseract has been successfully set up and is ready for use!**\n"
     ]
    }
   ],
   "source": [
    "llm = Ollama(model=\"llama3:8b\", temperature=0) \n",
    "\n",
    "print(llm.invoke(\"Please let the user know whether the LLM is working. Do not ask any questions. Also let the user know pytesseract has successfully been setup.\"))\n",
    "\n"
   ]
  },
  {
   "cell_type": "code",
   "execution_count": 4,
   "id": "40f43c53",
   "metadata": {},
   "outputs": [
    {
     "name": "stdout",
     "output_type": "stream",
     "text": [
      "Extracted Text:\n",
      "pytesseract is working!\n"
     ]
    }
   ],
   "source": [
    "img = Image.open(\"test.png\")\n",
    "\n",
    "# Run OCR\n",
    "extracted_text = pytesseract.image_to_string(img)\n",
    "\n",
    "# Print the result\n",
    "print(\"Extracted Text:\")\n",
    "print(extracted_text.strip())"
   ]
  }
 ],
 "metadata": {
  "kernelspec": {
   "display_name": "pdf-analysis",
   "language": "python",
   "name": "python3"
  },
  "language_info": {
   "codemirror_mode": {
    "name": "ipython",
    "version": 3
   },
   "file_extension": ".py",
   "mimetype": "text/x-python",
   "name": "python",
   "nbconvert_exporter": "python",
   "pygments_lexer": "ipython3",
   "version": "3.10.18"
  }
 },
 "nbformat": 4,
 "nbformat_minor": 5
}
